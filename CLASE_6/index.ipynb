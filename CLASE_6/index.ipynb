{
 "cells": [
  {
   "cell_type": "code",
   "execution_count": 6,
   "id": "1bc96f5c",
   "metadata": {},
   "outputs": [],
   "source": [
    "import pandas as pd\n"
   ]
  },
  {
   "cell_type": "code",
   "execution_count": 18,
   "id": "43acedeb",
   "metadata": {},
   "outputs": [
    {
     "data": {
      "text/html": [
       "<div>\n",
       "<style scoped>\n",
       "    .dataframe tbody tr th:only-of-type {\n",
       "        vertical-align: middle;\n",
       "    }\n",
       "\n",
       "    .dataframe tbody tr th {\n",
       "        vertical-align: top;\n",
       "    }\n",
       "\n",
       "    .dataframe thead th {\n",
       "        text-align: right;\n",
       "    }\n",
       "</style>\n",
       "<table border=\"1\" class=\"dataframe\">\n",
       "  <thead>\n",
       "    <tr style=\"text-align: right;\">\n",
       "      <th></th>\n",
       "      <th>Spotify streams (millones)</th>\n",
       "    </tr>\n",
       "    <tr>\n",
       "      <th>Artista</th>\n",
       "      <th></th>\n",
       "    </tr>\n",
       "  </thead>\n",
       "  <tbody>\n",
       "    <tr>\n",
       "      <th>Taylor Swift</th>\n",
       "      <td>29100.0</td>\n",
       "    </tr>\n",
       "    <tr>\n",
       "      <th>Bad Bunny</th>\n",
       "      <td>16370.0</td>\n",
       "    </tr>\n",
       "    <tr>\n",
       "      <th>The Weeknd</th>\n",
       "      <td>14140.0</td>\n",
       "    </tr>\n",
       "    <tr>\n",
       "      <th>Drake</th>\n",
       "      <td>14030.0</td>\n",
       "    </tr>\n",
       "    <tr>\n",
       "      <th>Peso Pluma</th>\n",
       "      <td>10540.0</td>\n",
       "    </tr>\n",
       "    <tr>\n",
       "      <th>Feid</th>\n",
       "      <td>NaN</td>\n",
       "    </tr>\n",
       "  </tbody>\n",
       "</table>\n",
       "</div>"
      ],
      "text/plain": [
       "              Spotify streams (millones)\n",
       "Artista                                 \n",
       "Taylor Swift                     29100.0\n",
       "Bad Bunny                        16370.0\n",
       "The Weeknd                       14140.0\n",
       "Drake                            14030.0\n",
       "Peso Pluma                       10540.0\n",
       "Feid                                 NaN"
      ]
     },
     "execution_count": 18,
     "metadata": {},
     "output_type": "execute_result"
    }
   ],
   "source": [
    "excel = pd.read_excel(\"spotify_streams_by_artist_2023.xlsx\" , index_col=\"Artista\")\n",
    "excel"
   ]
  },
  {
   "cell_type": "code",
   "execution_count": 19,
   "id": "3fa2dac7",
   "metadata": {},
   "outputs": [
    {
     "data": {
      "text/plain": [
       "Spotify streams (millones)    14030.0\n",
       "Name: Drake, dtype: float64"
      ]
     },
     "execution_count": 19,
     "metadata": {},
     "output_type": "execute_result"
    }
   ],
   "source": [
    "excel.loc[\"Drake\"]"
   ]
  },
  {
   "cell_type": "code",
   "execution_count": 23,
   "id": "5d4b88dc",
   "metadata": {},
   "outputs": [
    {
     "data": {
      "text/plain": [
       "Spotify streams (millones)   NaN\n",
       "Name: Feid, dtype: float64"
      ]
     },
     "execution_count": 23,
     "metadata": {},
     "output_type": "execute_result"
    }
   ],
   "source": [
    "excel.iloc[-1]"
   ]
  },
  {
   "cell_type": "code",
   "execution_count": 9,
   "id": "abdd59ed",
   "metadata": {},
   "outputs": [
    {
     "data": {
      "text/html": [
       "<div>\n",
       "<style scoped>\n",
       "    .dataframe tbody tr th:only-of-type {\n",
       "        vertical-align: middle;\n",
       "    }\n",
       "\n",
       "    .dataframe tbody tr th {\n",
       "        vertical-align: top;\n",
       "    }\n",
       "\n",
       "    .dataframe thead th {\n",
       "        text-align: right;\n",
       "    }\n",
       "</style>\n",
       "<table border=\"1\" class=\"dataframe\">\n",
       "  <thead>\n",
       "    <tr style=\"text-align: right;\">\n",
       "      <th></th>\n",
       "      <th>Control 1</th>\n",
       "      <th>Control 2</th>\n",
       "      <th>Control 3</th>\n",
       "    </tr>\n",
       "  </thead>\n",
       "  <tbody>\n",
       "    <tr>\n",
       "      <th>Elmer</th>\n",
       "      <td>1</td>\n",
       "      <td>2</td>\n",
       "      <td>3</td>\n",
       "    </tr>\n",
       "    <tr>\n",
       "      <th>Manuel</th>\n",
       "      <td>1</td>\n",
       "      <td>2</td>\n",
       "      <td>3</td>\n",
       "    </tr>\n",
       "    <tr>\n",
       "      <th>Erika</th>\n",
       "      <td>5</td>\n",
       "      <td>6</td>\n",
       "      <td>7</td>\n",
       "    </tr>\n",
       "  </tbody>\n",
       "</table>\n",
       "</div>"
      ],
      "text/plain": [
       "        Control 1  Control 2  Control 3\n",
       "Elmer           1          2          3\n",
       "Manuel          1          2          3\n",
       "Erika           5          6          7"
      ]
     },
     "execution_count": 9,
     "metadata": {},
     "output_type": "execute_result"
    }
   ],
   "source": [
    "df_manual = pd.DataFrame(\n",
    "    columns= [\"Control 1\",\"Control 2\",\"Control 3\"],\n",
    "    index=[\"Elmer\" ,\"Manuel\",\"Erika\"],\n",
    "    data=[[1,2,3],[1,2,3],[5,6,7]])\n",
    "df_manual"
   ]
  },
  {
   "cell_type": "code",
   "execution_count": 17,
   "id": "03459398",
   "metadata": {},
   "outputs": [
    {
     "data": {
      "text/plain": [
       "'df_militares = pd.DataFrame({\\n    \"NOMBRE\": [\"ELMER\", \"JUAN\", \"MARÍA\"],\\n    \"CIP\": [123, 456, 789],\\n    \"DNI\": [12354678, 23456789, 34567890]\\n}, index=[1, 2, 3])'"
      ]
     },
     "execution_count": 17,
     "metadata": {},
     "output_type": "execute_result"
    }
   ],
   "source": [
    "df_militares = pd.DataFrame(\n",
    "    columns=[\"NOMBRE\",\"CIP\",\"DNI\"],\n",
    "    index=[1,2,3],\n",
    "    data=[[\"ELMER\",123,123546],[\"ELMER\",123,123546],[\"ELMER\",123,123546]]\n",
    ")\n",
    "df_militares\n",
    "\n",
    "# Crear DataFrame con datos variados\n",
    "\"\"\"df_militares = pd.DataFrame({\n",
    "    \"NOMBRE\": [\"ELMER\", \"JUAN\", \"MARÍA\"],\n",
    "    \"CIP\": [123, 456, 789],\n",
    "    \"DNI\": [12354678, 23456789, 34567890]\n",
    "}, index=[1, 2, 3])\"\"\""
   ]
  },
  {
   "cell_type": "code",
   "execution_count": 16,
   "id": "72f3b517",
   "metadata": {},
   "outputs": [
    {
     "data": {
      "text/html": [
       "<div>\n",
       "<style scoped>\n",
       "    .dataframe tbody tr th:only-of-type {\n",
       "        vertical-align: middle;\n",
       "    }\n",
       "\n",
       "    .dataframe tbody tr th {\n",
       "        vertical-align: top;\n",
       "    }\n",
       "\n",
       "    .dataframe thead th {\n",
       "        text-align: right;\n",
       "    }\n",
       "</style>\n",
       "<table border=\"1\" class=\"dataframe\">\n",
       "  <thead>\n",
       "    <tr style=\"text-align: right;\">\n",
       "      <th></th>\n",
       "      <th>Nombre</th>\n",
       "      <th>CIP</th>\n",
       "      <th>DNI</th>\n",
       "    </tr>\n",
       "  </thead>\n",
       "  <tbody>\n",
       "    <tr>\n",
       "      <th>1</th>\n",
       "      <td>JULIA</td>\n",
       "      <td>269</td>\n",
       "      <td>11352525</td>\n",
       "    </tr>\n",
       "    <tr>\n",
       "      <th>2</th>\n",
       "      <td>ROSA</td>\n",
       "      <td>843</td>\n",
       "      <td>12929907</td>\n",
       "    </tr>\n",
       "    <tr>\n",
       "      <th>3</th>\n",
       "      <td>JUAN</td>\n",
       "      <td>678</td>\n",
       "      <td>70211140</td>\n",
       "    </tr>\n",
       "    <tr>\n",
       "      <th>4</th>\n",
       "      <td>LUISA</td>\n",
       "      <td>996</td>\n",
       "      <td>78298642</td>\n",
       "    </tr>\n",
       "    <tr>\n",
       "      <th>5</th>\n",
       "      <td>ROSA</td>\n",
       "      <td>339</td>\n",
       "      <td>41610647</td>\n",
       "    </tr>\n",
       "    <tr>\n",
       "      <th>6</th>\n",
       "      <td>CARLOS</td>\n",
       "      <td>550</td>\n",
       "      <td>67656129</td>\n",
       "    </tr>\n",
       "    <tr>\n",
       "      <th>7</th>\n",
       "      <td>MARÍA</td>\n",
       "      <td>891</td>\n",
       "      <td>66511224</td>\n",
       "    </tr>\n",
       "    <tr>\n",
       "      <th>8</th>\n",
       "      <td>MARIO</td>\n",
       "      <td>838</td>\n",
       "      <td>17003385</td>\n",
       "    </tr>\n",
       "    <tr>\n",
       "      <th>9</th>\n",
       "      <td>JUAN</td>\n",
       "      <td>551</td>\n",
       "      <td>72532410</td>\n",
       "    </tr>\n",
       "    <tr>\n",
       "      <th>10</th>\n",
       "      <td>JULIA</td>\n",
       "      <td>411</td>\n",
       "      <td>49893548</td>\n",
       "    </tr>\n",
       "  </tbody>\n",
       "</table>\n",
       "</div>"
      ],
      "text/plain": [
       "    Nombre  CIP       DNI\n",
       "1    JULIA  269  11352525\n",
       "2     ROSA  843  12929907\n",
       "3     JUAN  678  70211140\n",
       "4    LUISA  996  78298642\n",
       "5     ROSA  339  41610647\n",
       "6   CARLOS  550  67656129\n",
       "7    MARÍA  891  66511224\n",
       "8    MARIO  838  17003385\n",
       "9     JUAN  551  72532410\n",
       "10   JULIA  411  49893548"
      ]
     },
     "execution_count": 16,
     "metadata": {},
     "output_type": "execute_result"
    }
   ],
   "source": [
    "import numpy as np\n",
    "# Cantidad de filas\n",
    "n = 10\n",
    "\n",
    "# Nombres posibles\n",
    "nombres_posibles = [\"ELMER\", \"JUAN\", \"MARÍA\", \"CARLOS\", \"LUISA\", \"ANA\", \"MARIO\", \"ROSA\", \"LUIS\", \"JULIA\"]\n",
    "\n",
    "df_milico = pd.DataFrame({\n",
    "    \"Nombre\":np.random.choice(nombres_posibles,n),\n",
    "    \"CIP\":np.random.randint(100,999,size=n),\n",
    "    \"DNI\":np.random.randint(10000000,99999999,size=n)\n",
    "    },index= np.arange(1,n+1))\n",
    "df_milico\n"
   ]
  },
  {
   "cell_type": "code",
   "execution_count": null,
   "id": "846c02dd",
   "metadata": {},
   "outputs": [],
   "source": [
    "\n"
   ]
  }
 ],
 "metadata": {
  "kernelspec": {
   "display_name": "base",
   "language": "python",
   "name": "python3"
  },
  "language_info": {
   "codemirror_mode": {
    "name": "ipython",
    "version": 3
   },
   "file_extension": ".py",
   "mimetype": "text/x-python",
   "name": "python",
   "nbconvert_exporter": "python",
   "pygments_lexer": "ipython3",
   "version": "3.12.7"
  }
 },
 "nbformat": 4,
 "nbformat_minor": 5
}
