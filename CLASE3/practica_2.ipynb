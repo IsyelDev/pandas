{
 "cells": [
  {
   "cell_type": "code",
   "execution_count": 2,
   "id": "e4d403bd",
   "metadata": {},
   "outputs": [],
   "source": [
    "import pandas as pd\n",
    "nuevo =[\n",
    "  {\"nombre\": \"Carlos\", \"edad\": 32, \"departamento\": \"Ventas\"},\n",
    "  {\"nombre\": \"Lucía\", \"edad\": 28, \"departamento\": \"Marketing\"},\n",
    "  {\"nombre\": \"Miguel\", \"edad\": 45, \"departamento\": \"Finanzas\"}\n",
    "]\n"
   ]
  },
  {
   "cell_type": "code",
   "execution_count": 5,
   "id": "4537614a",
   "metadata": {},
   "outputs": [],
   "source": [
    "empleados =pd.DataFrame(nuevo)"
   ]
  },
  {
   "cell_type": "code",
   "execution_count": 9,
   "id": "f6f931ad",
   "metadata": {},
   "outputs": [
    {
     "data": {
      "text/html": [
       "<div>\n",
       "<style scoped>\n",
       "    .dataframe tbody tr th:only-of-type {\n",
       "        vertical-align: middle;\n",
       "    }\n",
       "\n",
       "    .dataframe tbody tr th {\n",
       "        vertical-align: top;\n",
       "    }\n",
       "\n",
       "    .dataframe thead th {\n",
       "        text-align: right;\n",
       "    }\n",
       "</style>\n",
       "<table border=\"1\" class=\"dataframe\">\n",
       "  <thead>\n",
       "    <tr style=\"text-align: right;\">\n",
       "      <th></th>\n",
       "      <th>nombre</th>\n",
       "      <th>edad</th>\n",
       "      <th>departamento</th>\n",
       "    </tr>\n",
       "  </thead>\n",
       "  <tbody>\n",
       "    <tr>\n",
       "      <th>0</th>\n",
       "      <td>Carlos</td>\n",
       "      <td>32</td>\n",
       "      <td>Ventas</td>\n",
       "    </tr>\n",
       "    <tr>\n",
       "      <th>2</th>\n",
       "      <td>Miguel</td>\n",
       "      <td>45</td>\n",
       "      <td>Finanzas</td>\n",
       "    </tr>\n",
       "  </tbody>\n",
       "</table>\n",
       "</div>"
      ],
      "text/plain": [
       "   nombre  edad departamento\n",
       "0  Carlos    32       Ventas\n",
       "2  Miguel    45     Finanzas"
      ]
     },
     "execution_count": 9,
     "metadata": {},
     "output_type": "execute_result"
    }
   ],
   "source": [
    "empleado_filtrado = empleados[empleados[\"edad\"]>30]\n",
    "empleado_filtrado.to_json(\"filtrado.json\")\n",
    "nuevo = pd.read_json(\"filtrado.json\")\n",
    "nuevo"
   ]
  },
  {
   "cell_type": "code",
   "execution_count": 41,
   "id": "a24eea72",
   "metadata": {},
   "outputs": [],
   "source": [
    "proyecto_pacientes ={\n",
    "  \"Investigación\": \"Salud 2025\",\n",
    "  \"Año\": 2025,\n",
    "  \"Pacientes\": [\n",
    "    {\"Nombre\": \"Ana\", \"Edad\": 33, \"Diagnóstico\": \"Diabetes\"},\n",
    "    {\"Nombre\": \"Luis\", \"Edad\": 40, \"Diagnóstico\": \"Hipertensión\"},\n",
    "    {\"Nombre\": \"María\", \"Edad\": 29, \"Diagnóstico\": \"Asma\"}\n",
    "  ]\n",
    "}\n"
   ]
  },
  {
   "cell_type": "code",
   "execution_count": 42,
   "id": "6873c546",
   "metadata": {},
   "outputs": [
    {
     "data": {
      "text/html": [
       "<div>\n",
       "<style scoped>\n",
       "    .dataframe tbody tr th:only-of-type {\n",
       "        vertical-align: middle;\n",
       "    }\n",
       "\n",
       "    .dataframe tbody tr th {\n",
       "        vertical-align: top;\n",
       "    }\n",
       "\n",
       "    .dataframe thead th {\n",
       "        text-align: right;\n",
       "    }\n",
       "</style>\n",
       "<table border=\"1\" class=\"dataframe\">\n",
       "  <thead>\n",
       "    <tr style=\"text-align: right;\">\n",
       "      <th></th>\n",
       "      <th>Investigación</th>\n",
       "      <th>Año</th>\n",
       "      <th>Pacientes</th>\n",
       "    </tr>\n",
       "  </thead>\n",
       "  <tbody>\n",
       "    <tr>\n",
       "      <th>0</th>\n",
       "      <td>Salud 2025</td>\n",
       "      <td>2025</td>\n",
       "      <td>{'Nombre': 'Ana', 'Edad': 33, 'Diagnóstico': '...</td>\n",
       "    </tr>\n",
       "    <tr>\n",
       "      <th>1</th>\n",
       "      <td>Salud 2025</td>\n",
       "      <td>2025</td>\n",
       "      <td>{'Nombre': 'Luis', 'Edad': 40, 'Diagnóstico': ...</td>\n",
       "    </tr>\n",
       "    <tr>\n",
       "      <th>2</th>\n",
       "      <td>Salud 2025</td>\n",
       "      <td>2025</td>\n",
       "      <td>{'Nombre': 'María', 'Edad': 29, 'Diagnóstico':...</td>\n",
       "    </tr>\n",
       "  </tbody>\n",
       "</table>\n",
       "</div>"
      ],
      "text/plain": [
       "  Investigación   Año                                          Pacientes\n",
       "0    Salud 2025  2025  {'Nombre': 'Ana', 'Edad': 33, 'Diagnóstico': '...\n",
       "1    Salud 2025  2025  {'Nombre': 'Luis', 'Edad': 40, 'Diagnóstico': ...\n",
       "2    Salud 2025  2025  {'Nombre': 'María', 'Edad': 29, 'Diagnóstico':..."
      ]
     },
     "execution_count": 42,
     "metadata": {},
     "output_type": "execute_result"
    }
   ],
   "source": [
    "lee = pd.DataFrame(proyecto_pacientes)\n",
    "lee"
   ]
  },
  {
   "cell_type": "code",
   "execution_count": 47,
   "id": "6935198e",
   "metadata": {},
   "outputs": [
    {
     "data": {
      "text/html": [
       "<div>\n",
       "<style scoped>\n",
       "    .dataframe tbody tr th:only-of-type {\n",
       "        vertical-align: middle;\n",
       "    }\n",
       "\n",
       "    .dataframe tbody tr th {\n",
       "        vertical-align: top;\n",
       "    }\n",
       "\n",
       "    .dataframe thead th {\n",
       "        text-align: right;\n",
       "    }\n",
       "</style>\n",
       "<table border=\"1\" class=\"dataframe\">\n",
       "  <thead>\n",
       "    <tr style=\"text-align: right;\">\n",
       "      <th></th>\n",
       "      <th>Investigación</th>\n",
       "      <th>Año</th>\n",
       "      <th>Pacientes</th>\n",
       "    </tr>\n",
       "  </thead>\n",
       "  <tbody>\n",
       "    <tr>\n",
       "      <th>0</th>\n",
       "      <td>Salud 2025</td>\n",
       "      <td>2025</td>\n",
       "      <td>{'Nombre': 'Ana', 'Edad': 33, 'Diagnóstico': '...</td>\n",
       "    </tr>\n",
       "    <tr>\n",
       "      <th>1</th>\n",
       "      <td>Salud 2025</td>\n",
       "      <td>2025</td>\n",
       "      <td>{'Nombre': 'Luis', 'Edad': 40, 'Diagnóstico': ...</td>\n",
       "    </tr>\n",
       "    <tr>\n",
       "      <th>2</th>\n",
       "      <td>Salud 2025</td>\n",
       "      <td>2025</td>\n",
       "      <td>{'Nombre': 'María', 'Edad': 29, 'Diagnóstico':...</td>\n",
       "    </tr>\n",
       "  </tbody>\n",
       "</table>\n",
       "</div>"
      ],
      "text/plain": [
       "  Investigación   Año                                          Pacientes\n",
       "0    Salud 2025  2025  {'Nombre': 'Ana', 'Edad': 33, 'Diagnóstico': '...\n",
       "1    Salud 2025  2025  {'Nombre': 'Luis', 'Edad': 40, 'Diagnóstico': ...\n",
       "2    Salud 2025  2025  {'Nombre': 'María', 'Edad': 29, 'Diagnóstico':..."
      ]
     },
     "execution_count": 47,
     "metadata": {},
     "output_type": "execute_result"
    }
   ],
   "source": [
    "lee.to_json(\"proyectos_pacientes.json\")\n",
    "pd.read_json(\"proyectos_pacientes.json\")"
   ]
  },
  {
   "cell_type": "code",
   "execution_count": 52,
   "id": "973680e5",
   "metadata": {},
   "outputs": [
    {
     "name": "stdout",
     "output_type": "stream",
     "text": [
      "  Nombre  Edad   Diagnóstico Investigación   Año\n",
      "0    Ana    33      Diabetes    Salud 2025  2025\n",
      "1   Luis    40  Hipertensión    Salud 2025  2025\n",
      "2  María    29          Asma    Salud 2025  2025\n"
     ]
    }
   ],
   "source": [
    "import pandas as pd\n",
    "import json\n",
    "\n",
    "# Simulamos la lectura del JSON con la estructura del Ejercicio 2\n",
    "datos = {\n",
    "    \"Investigación\": \"Salud 2025\",\n",
    "    \"Año\": 2025,\n",
    "    \"Pacientes\": [\n",
    "        {\"Nombre\": \"Ana\", \"Edad\": 33, \"Diagnóstico\": \"Diabetes\"},\n",
    "        {\"Nombre\": \"Luis\", \"Edad\": 40, \"Diagnóstico\": \"Hipertensión\"},\n",
    "        {\"Nombre\": \"María\", \"Edad\": 29, \"Diagnóstico\": \"Asma\"}\n",
    "    ]\n",
    "}\n",
    "\n",
    "# Normalizamos\n",
    "df = pd.json_normalize(datos, record_path='Pacientes', meta=['Investigación', 'Año'])\n",
    "\n",
    "# Mostramos\n",
    "print(df)\n",
    "\n",
    "# Guardamos a JSON\n",
    "df.to_json(\"pacientes_flat.json\", orient='records', indent=2)\n"
   ]
  }
 ],
 "metadata": {
  "kernelspec": {
   "display_name": "base",
   "language": "python",
   "name": "python3"
  },
  "language_info": {
   "codemirror_mode": {
    "name": "ipython",
    "version": 3
   },
   "file_extension": ".py",
   "mimetype": "text/x-python",
   "name": "python",
   "nbconvert_exporter": "python",
   "pygments_lexer": "ipython3",
   "version": "3.12.7"
  }
 },
 "nbformat": 4,
 "nbformat_minor": 5
}
