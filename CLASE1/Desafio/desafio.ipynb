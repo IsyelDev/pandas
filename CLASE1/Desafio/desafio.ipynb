{
 "cells": [
  {
   "cell_type": "markdown",
   "id": "39b91af3",
   "metadata": {},
   "source": [
    "#### 1. Asegúrese de que el archivo CSV esté separado por una coma o punto y coma.\n",
    "#### 2. La codificación del archivo es ISO-8859-1.\n",
    "#### 3. Las primeras tres líneas del archivo se pueden ignorar, ya que el encabezado sólo comienza en la cuarta línea.\n",
    "#### 4. Las últimas 9 líneas también se pueden ignorar, ya que son sólo información sobre dónde se tomaron los datos.\n",
    "#### 5. Para eliminar las últimas líneas es necesario agregar el parámetro engine='python'."
   ]
  },
  {
   "cell_type": "code",
   "execution_count": null,
   "id": "661491d3",
   "metadata": {},
   "outputs": [],
   "source": [
    "import pandas as pd\n",
    "\n",
    "tablaSalud = pd.read_csv(\"datos_sus.csv\",sep=\";\",encoding=\"ISO-8859-1\",skiprows=3,skipfooter=9,engine=\"python\")\n",
    "tablaSalud"
   ]
  },
  {
   "cell_type": "code",
   "execution_count": 11,
   "id": "7929aadc",
   "metadata": {},
   "outputs": [
    {
     "data": {
      "text/html": [
       "<div>\n",
       "<style scoped>\n",
       "    .dataframe tbody tr th:only-of-type {\n",
       "        vertical-align: middle;\n",
       "    }\n",
       "\n",
       "    .dataframe tbody tr th {\n",
       "        vertical-align: top;\n",
       "    }\n",
       "\n",
       "    .dataframe thead th {\n",
       "        text-align: right;\n",
       "    }\n",
       "</style>\n",
       "<table border=\"1\" class=\"dataframe\">\n",
       "  <thead>\n",
       "    <tr style=\"text-align: right;\">\n",
       "      <th></th>\n",
       "      <th>Unidade da Federação</th>\n",
       "      <th>2008/Jan</th>\n",
       "      <th>2008/Fev</th>\n",
       "      <th>2008/Mar</th>\n",
       "      <th>2008/Abr</th>\n",
       "      <th>2008/Mai</th>\n",
       "    </tr>\n",
       "  </thead>\n",
       "  <tbody>\n",
       "    <tr>\n",
       "      <th>0</th>\n",
       "      <td>Rondônia</td>\n",
       "      <td>1388528,39</td>\n",
       "      <td>2931283,42</td>\n",
       "      <td>1541682,52</td>\n",
       "      <td>1525314,96</td>\n",
       "      <td>1645953,84</td>\n",
       "    </tr>\n",
       "    <tr>\n",
       "      <th>1</th>\n",
       "      <td>Acre</td>\n",
       "      <td>902416,00</td>\n",
       "      <td>1497206,26</td>\n",
       "      <td>1794028,48</td>\n",
       "      <td>1730469,42</td>\n",
       "      <td>1819443,92</td>\n",
       "    </tr>\n",
       "    <tr>\n",
       "      <th>2</th>\n",
       "      <td>Amazonas</td>\n",
       "      <td>4735529,42</td>\n",
       "      <td>7118990,57</td>\n",
       "      <td>8196635,49</td>\n",
       "      <td>8259378,42</td>\n",
       "      <td>7831399,90</td>\n",
       "    </tr>\n",
       "    <tr>\n",
       "      <th>3</th>\n",
       "      <td>Roraima</td>\n",
       "      <td>657889,53</td>\n",
       "      <td>777939,31</td>\n",
       "      <td>718688,03</td>\n",
       "      <td>839994,39</td>\n",
       "      <td>862347,96</td>\n",
       "    </tr>\n",
       "    <tr>\n",
       "      <th>4</th>\n",
       "      <td>Pará</td>\n",
       "      <td>18864744,11</td>\n",
       "      <td>19553758,20</td>\n",
       "      <td>21937342,70</td>\n",
       "      <td>20842829,69</td>\n",
       "      <td>23249952,88</td>\n",
       "    </tr>\n",
       "  </tbody>\n",
       "</table>\n",
       "</div>"
      ],
      "text/plain": [
       "  Unidade da Federação     2008/Jan     2008/Fev     2008/Mar     2008/Abr  \\\n",
       "0             Rondônia   1388528,39   2931283,42   1541682,52   1525314,96   \n",
       "1                 Acre    902416,00   1497206,26   1794028,48   1730469,42   \n",
       "2             Amazonas   4735529,42   7118990,57   8196635,49   8259378,42   \n",
       "3              Roraima    657889,53    777939,31    718688,03    839994,39   \n",
       "4                 Pará  18864744,11  19553758,20  21937342,70  20842829,69   \n",
       "\n",
       "      2008/Mai  \n",
       "0   1645953,84  \n",
       "1   1819443,92  \n",
       "2   7831399,90  \n",
       "3    862347,96  \n",
       "4  23249952,88  "
      ]
     },
     "execution_count": 11,
     "metadata": {},
     "output_type": "execute_result"
    }
   ],
   "source": [
    "tablaSalud.to_csv(\"nodal.csv\", index=False )\n",
    "pd.read_csv(\"nodal.csv\",nrows=5,usecols=[0,1,2,3,4,5] )"
   ]
  },
  {
   "cell_type": "code",
   "execution_count": 12,
   "id": "36108b8f",
   "metadata": {},
   "outputs": [
    {
     "name": "stdout",
     "output_type": "stream",
     "text": [
      "{'encoding': 'ISO-8859-1', 'confidence': 0.73, 'language': ''}\n"
     ]
    }
   ],
   "source": [
    "import chardet\n",
    "with open(\"datos_sus.csv\",\"rb\") as file:\n",
    "    print(chardet.detect(file.read()))"
   ]
  }
 ],
 "metadata": {
  "kernelspec": {
   "display_name": "base",
   "language": "python",
   "name": "python3"
  },
  "language_info": {
   "codemirror_mode": {
    "name": "ipython",
    "version": 3
   },
   "file_extension": ".py",
   "mimetype": "text/x-python",
   "name": "python",
   "nbconvert_exporter": "python",
   "pygments_lexer": "ipython3",
   "version": "3.12.7"
  }
 },
 "nbformat": 4,
 "nbformat_minor": 5
}
